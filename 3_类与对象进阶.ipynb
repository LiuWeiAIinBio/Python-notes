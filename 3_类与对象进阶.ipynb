{
 "cells": [
  {
   "cell_type": "markdown",
   "id": "81c6a706-f4cc-46d5-8afd-4dfb67798373",
   "metadata": {},
   "source": [
    "# __slots__魔法\n",
    "\n",
    "**`__slots__`的主要作用：**\n",
    "- 通过在类定义中指定一个元组，明确列出允许的属性名称，可以防止动态添加其他属性。\n",
    "- Python 类的实例属性存储在`__dict__`字典中，会占用较多内存；使用`__slots__`后，Python 不会为实例创建`__dict__`，而是将属性存储在固定大小的数组中，从而显著减少内存占用。\n",
    "- 使用`__slots__`时，由于取消了`__dict__`，每个实例节省了字典的内存开销，属性存储也更加紧凑，属性访问更快。\n",
    "- `__slots__`是一个非常强大的工具，尤其适用于需要处理大量实例的场景，合理使用它可以显著提升程序的性能和内存效率。\n",
    "\n",
    "**注意事项：**\n",
    "- `__slots__`仅对当前类实例起作用，对继承的子类无效。如果需要在子类中限制属性，子类也需要定义自己的`__slots__`。\n",
    "\n",
    "**示例与性能对比：**"
   ]
  },
  {
   "cell_type": "code",
   "execution_count": 1,
   "id": "a0fe2cd9-2f97-4898-9a5c-93bc0dba32b0",
   "metadata": {},
   "outputs": [
    {
     "name": "stdout",
     "output_type": "stream",
     "text": [
      "测试普通类: {'内存占用(MB)': 179.7538480758667, '对象创建时间(秒)': 2.551945686340332}\n",
      "测试使用__slots__的类: {'内存占用(MB)': 95.85917472839355, '对象创建时间(秒)': 1.690474033355713}\n"
     ]
    }
   ],
   "source": [
    "import sys\n",
    "import time\n",
    "import tracemalloc\n",
    "\n",
    "class OrderWithDict:\n",
    "    def __init__(self, order_id, symbol, price, quantity):\n",
    "        self.order_id = order_id\n",
    "        self.symbol = symbol\n",
    "        self.price = price\n",
    "        self.quantity = quantity\n",
    "\n",
    "class OrderWithSlots:\n",
    "    __slots__ = ('order_id', 'symbol', 'price', 'quantity')\n",
    "\n",
    "    def __init__(self, order_id, symbol, price, quantity):\n",
    "        self.order_id = order_id\n",
    "        self.symbol = symbol\n",
    "        self.price = price\n",
    "        self.quantity = quantity\n",
    "\n",
    "# 测试内存和速度\n",
    "def measure_memory_and_speed(cls, n_objects=1_000_000):\n",
    "    tracemalloc.start()\n",
    "    start_time = time.time()\n",
    "    objects = [cls(i, \"BTC\", 30000, 1) for i in range(n_objects)]\n",
    "    creation_time = time.time() - start_time\n",
    "    current, peak = tracemalloc.get_traced_memory()\n",
    "    tracemalloc.stop()\n",
    "    return {\n",
    "        \"内存占用(MB)\": peak / 1024 / 1024,\n",
    "        \"对象创建时间(秒)\": creation_time,\n",
    "    }\n",
    "\n",
    "print(\"测试普通类:\", measure_memory_and_speed(OrderWithDict))\n",
    "print(\"测试使用__slots__的类:\", measure_memory_and_speed(OrderWithSlots))"
   ]
  },
  {
   "cell_type": "markdown",
   "id": "b150b615-9242-4dcb-84cc-7ee2bf1618fd",
   "metadata": {},
   "source": [
    "# 类方法与静态方法\n",
    "\n",
    "- 类方法的第一个参数为cls，可以通过cls.访问类的属性和类的方法。\n",
    "- 类方法可以通过类名调用，也可以通过实例调用。\n",
    "- 在类方法中，可以通过cls()（cls代表当前类）创建类的实例（调用类的构造函数（__init__ 方法））。\n",
    "- 在继承时，可以通过子类名调用父类的类方法，cls参数会自动指向子类。\n",
    "\n",
    "<br/>\n",
    "\n",
    "- 静态方法不接收任何隐式的第一个参数，既不接收cls，也不接收self，完全独立于类和实例，不能访问类属性或实例属性、类方法或实例方法，只能访问传递给它的参数。\n",
    "- 静态方法可以通过类名调用，也可以通过实例调用。\n",
    "- 在继承时，静态方法不会自动绑定到子类或父类，它的行为完全独立于类的继承结构；可以通过子类名调用父类的静态方法。\n",
    "- 静态方法常用于工具函数或辅助函数。"
   ]
  },
  {
   "cell_type": "code",
   "execution_count": 2,
   "id": "bd9dcdf8-5fe9-4577-81f0-9eeea62342b9",
   "metadata": {},
   "outputs": [],
   "source": [
    "from time import time, localtime\n",
    "\n",
    "class Student:\n",
    "    number = 0  # 类属性\n",
    "    \n",
    "    def __init__(self, name, age):\n",
    "        self.name = name\n",
    "        self.age = age\n",
    "        \n",
    "    @classmethod   \n",
    "    def counter(cls):\n",
    "        cls.number += 1\n",
    "        print(cls.number)\n",
    "\n",
    "    @classmethod\n",
    "    def show1(cls):\n",
    "        return cls(\"wang\", 27)\n",
    "\n",
    "    @classmethod\n",
    "    def show2(cls):\n",
    "        print(\"Parent_class\", cls.__name__)\n",
    "\n",
    "    @staticmethod\n",
    "    def nowtime():\n",
    "        ctime = localtime(time())\n",
    "        print(f\"现在的时间：{ctime.tm_hour}时{ctime.tm_min}分{ctime.tm_sec}秒\")\n",
    "\n",
    "    @staticmethod\n",
    "    def add(a, b):\n",
    "        print(a + b)\n",
    "\n",
    "\n",
    "class Smallstudent(Student):\n",
    "    pass"
   ]
  },
  {
   "cell_type": "code",
   "execution_count": 3,
   "id": "326bd9ef-6193-4b19-9f0c-8f3ee88314b4",
   "metadata": {},
   "outputs": [
    {
     "name": "stdout",
     "output_type": "stream",
     "text": [
      "Liu\n",
      "1\n",
      "Zhang\n",
      "2\n",
      "wang\n",
      "3\n",
      "Parent_class Student\n",
      "Parent_class Smallstudent\n",
      "\n",
      "\n",
      "现在的时间：14时46分51秒\n",
      "现在的时间：14时46分51秒\n",
      "7\n",
      "现在的时间：14时46分51秒\n"
     ]
    }
   ],
   "source": [
    "obj1 = Student(\"Liu\", 25)\n",
    "print(obj1.name)\n",
    "obj1.counter()  # 通过实例调用类方法\n",
    "\n",
    "obj2 = Student(\"Zhang\", 26)\n",
    "print(obj2.name)\n",
    "Student.counter()  # 通过类名调用类方法\n",
    "\n",
    "obj3 = Student.show1()  # 通过cls()创建实例\n",
    "print(obj3.name)\n",
    "Student.counter()\n",
    "\n",
    "Student.show2()\n",
    "Smallstudent.show2()  # 通过子类名调用父类方法，cls参数自动指向子类\n",
    "\n",
    "print(\"\\n\")\n",
    "\n",
    "obj1.nowtime()  # 通过实例调用静态方法\n",
    "Student.nowtime()  # 通过类名调用静态方法\n",
    "Student.add(3, 4)  # 访问传递的参数，执行静态方法\n",
    "Smallstudent.nowtime()  # 通过子类名调用静态方法"
   ]
  },
  {
   "cell_type": "markdown",
   "id": "9eb964cd-7209-49d9-b4f1-98a3bb4d9a01",
   "metadata": {},
   "source": [
    "# 类的继承和多态\n",
    "\n",
    "子类在继承了父类的方法后，可以对父类已有的方法给出新的实现版本，这个动作称之为方法重写（override）。通过方法重写我们可以让父类的同一个行为在子类中拥有不同的实现版本，当我们调用这个经过子类重写的方法时，不同的子类对象会表现出不同的行为，这个就是多态（poly-morphism）。\n",
    "\n",
    "**在下面的例子中：** \n",
    "- 我们将Pet类处理成了一个抽象类，所谓抽象类就是不能够创建对象的类，这种类的存在就是专门为了让其他类去继承它。\n",
    "- Python从语法层面并没有像Java或C#那样提供对抽象类的支持，但是我们可以通过abc模块的ABCMeta元类和abstractmethod包装器来达到抽象类的效果，如果一个类中存在抽象方法那么这个类就不能够实例化（创建对象）。\n",
    "- 上面的代码中，Dog和Cat两个子类分别对Pet类中的make_voice抽象方法进行了重写并给出了不同的实现版本，实例化并调用该方法时，这个方法就表现出了多态行为（同样的方法做了不同的事情）。\n",
    "\n",
    "**下面的例子中，子类没有显式定义`__init__`方法：**\n",
    "- 这是因为Pet父类的`__init__`方法已经足够通用，可以直接用于初始化Dog和Cat子类的实例。\n",
    "- 在类继承中，如果子类没有显式定义`__init__`方法，Python 会自动调用父类的`__init__`方法来初始化对象。"
   ]
  },
  {
   "cell_type": "code",
   "execution_count": 4,
   "id": "dffedb4c-5a0c-44c5-94d4-36c1b8b6d6b4",
   "metadata": {},
   "outputs": [
    {
     "name": "stdout",
     "output_type": "stream",
     "text": [
      "旺财：汪汪汪...\n",
      "凯蒂：喵...喵...\n"
     ]
    }
   ],
   "source": [
    "from abc import ABCMeta, abstractmethod\n",
    "\n",
    "class Pet(object, metaclass=ABCMeta):\n",
    "    \"\"\"宠物\"\"\"\n",
    "    def __init__(self, nickname):\n",
    "        self._nickname = nickname\n",
    "\n",
    "    @abstractmethod\n",
    "    def make_voice(self):\n",
    "        \"\"\"发出声音\"\"\"\n",
    "        pass\n",
    "\n",
    "\n",
    "class Dog(Pet):\n",
    "    \"\"\"狗\"\"\"\n",
    "    def make_voice(self):\n",
    "        print(f\"{self._nickname}：汪汪汪...\")\n",
    "\n",
    "\n",
    "class Cat(Pet):\n",
    "    \"\"\"猫\"\"\"\n",
    "    def make_voice(self):\n",
    "        print(f\"{self._nickname}：喵...喵...\")\n",
    "\n",
    "\n",
    "pets = [Dog('旺财'), Cat('凯蒂')]\n",
    "for pet in pets:\n",
    "    pet.make_voice()"
   ]
  },
  {
   "cell_type": "markdown",
   "id": "8b6a905e-258e-4a24-9a51-357465ca69d9",
   "metadata": {},
   "source": [
    "# 类的封装\n",
    "\n",
    "指的是将对象的属性（数据）和行为（方法）组合成一个独立的单元（类），并通过访问控制来隐藏内部实现细节，只暴露必要的接口供外部使用。封装的目的是提高代码的可维护性、可重用性和安全性。\n",
    "\n",
    "**在下面的例子中：**\n",
    "- self.__owner和self.__balance是私有属性，外部代码不应该直接访问它们。\n",
    "- 通过@property提供只读访问接口，确保外部代码无法直接修改这些属性。\n",
    "- 方法封装：\n",
    "    - deposit方法封装了存款的逻辑，隐藏了内部实现细节。\n",
    "    - @setter封装了owner属性赋值逻辑，隐藏内部实现细节。\n",
    "- 通过封装，隐藏了内部实现细节，防止外部代码直接操作内部数据，增强代码的安全性和可维护性。例如，外部代码无法直接修改balance，只能通过deposit方法进行操作。\n",
    "\n",
    "**@property和@setter**\n",
    "- 如果只定义 @property，不定义 @setter，那么属性就是只读的。\n",
    "- 如果同时定义 @property 和 @setter，那么属性就是可读写的，并且可以通过 @setter 方法对属性值进行验证和控制。\n",
    "\n",
    "**单下划线和双下划线：**\n",
    "- 单下划线 _ 是一种约定，表示该属性或方法是“受保护的”（protected），但它并不是真正的私有属性或方法，在类的外部仍然可以访问这些属性或方法，但按照约定，外部代码不应该直接访问它们。通常用于表示内部实现细节，提醒开发者这些属性或方法不应该被外部直接使用。\n",
    "- 双下划线 __ 是真正的私有属性或方法，在类的外部无法直接访问这些属性或方法，从而实现真正的私有化。"
   ]
  },
  {
   "cell_type": "code",
   "execution_count": 5,
   "id": "00652a83-28af-4226-a2a2-f38dac662da4",
   "metadata": {},
   "outputs": [
    {
     "name": "stdout",
     "output_type": "stream",
     "text": [
      "Account owner: Alice\n",
      "Account balance: 1000\n",
      "\n",
      "\n",
      "Account owner: Liu\n",
      "Account balance: 1500\n"
     ]
    }
   ],
   "source": [
    "class BankAccount:\n",
    "    def __init__(self, name, amount=0):\n",
    "        \"\"\"私有属性，类外部不能直接访问\"\"\"\n",
    "        self.__owner = name\n",
    "        self.__balance = amount\n",
    "\n",
    "    @property\n",
    "    def owner(self):\n",
    "        \"\"\"使用装饰器@property将方法伪装成属性，在类外部以只读方式访问私有属性，但不允许外部修改属性值\"\"\"\n",
    "        return self.__owner\n",
    "\n",
    "    @owner.setter\n",
    "    def owner(self, name):\n",
    "        \"\"\"使用@owner.setter封装属性赋值逻辑，实现在类外部修改self.__owner属性值\"\"\"\n",
    "        if not isinstance(name, str) or len(name) == 0:\n",
    "            raise ValueError(\"name must be a non-empty string\")\n",
    "        self.__owner = name\n",
    "    \n",
    "    @property\n",
    "    def balance(self):\n",
    "        \"\"\"使用装饰器@property将方法伪装成属性，在类外部以只读方式访问私有属性，但不允许外部修改属性值\"\"\"\n",
    "        return self.__balance\n",
    "\n",
    "    def deposit(self, amount):\n",
    "        \"\"\"使用deposit()方法封装存款的逻辑，实现在类外部修改self.__balance属性值\"\"\"\n",
    "        if amount <= 0:\n",
    "            raise ValueError(\"Deposit amount must be positive\")\n",
    "        self.__balance += amount\n",
    "\n",
    "\n",
    "# 创建初始实例\n",
    "account = BankAccount(\"Alice\", 1000)  \n",
    "print(f\"Account owner: {account.owner}\") \n",
    "print(f\"Account balance: {account.balance}\")\n",
    "\n",
    "print(\"\\n\")\n",
    "\n",
    "# 更改owner的name和balance的amount\n",
    "account.owner = \"Liu\"  # 在类外部修改self.__owner属性值\n",
    "print(f\"Account owner: {account.owner}\") \n",
    "account.deposit(500)  # 在类外部修改self.__balance属性值\n",
    "print(f\"Account balance: {account.balance}\")"
   ]
  },
  {
   "cell_type": "code",
   "execution_count": 6,
   "id": "c777c544-d711-4e7f-9370-b11c66cb8075",
   "metadata": {},
   "outputs": [
    {
     "data": {
      "text/plain": [
       "'zhang'"
      ]
     },
     "execution_count": 6,
     "metadata": {},
     "output_type": "execute_result"
    }
   ],
   "source": [
    "class BankAccount:\n",
    "    def __init__(self, name, amount=0):\n",
    "        self._owner = name\n",
    "        self.__balance = amount\n",
    "\n",
    "account = BankAccount(\"zhang\", 2000)\n",
    "account._owner  # 不是真正的私有属性，在类的外部仍可直接访问"
   ]
  },
  {
   "cell_type": "code",
   "execution_count": 7,
   "id": "799dcf77-b8aa-4aa8-a397-063fc8d9cb70",
   "metadata": {},
   "outputs": [
    {
     "ename": "AttributeError",
     "evalue": "'BankAccount' object has no attribute '__balance'",
     "output_type": "error",
     "traceback": [
      "\u001b[1;31m---------------------------------------------------------------------------\u001b[0m",
      "\u001b[1;31mAttributeError\u001b[0m                            Traceback (most recent call last)",
      "Cell \u001b[1;32mIn[7], line 1\u001b[0m\n\u001b[1;32m----> 1\u001b[0m \u001b[43maccount\u001b[49m\u001b[38;5;241;43m.\u001b[39;49m\u001b[43m__balance\u001b[49m  \u001b[38;5;66;03m# 真正的私有属性，在类的外部不可直接访问，会报错\u001b[39;00m\n",
      "\u001b[1;31mAttributeError\u001b[0m: 'BankAccount' object has no attribute '__balance'"
     ]
    }
   ],
   "source": [
    "account.__balance  # 真正的私有属性，在类的外部不可直接访问，会报错"
   ]
  }
 ],
 "metadata": {
  "kernelspec": {
   "display_name": "Python 3 (ipykernel)",
   "language": "python",
   "name": "python3"
  },
  "language_info": {
   "codemirror_mode": {
    "name": "ipython",
    "version": 3
   },
   "file_extension": ".py",
   "mimetype": "text/x-python",
   "name": "python",
   "nbconvert_exporter": "python",
   "pygments_lexer": "ipython3",
   "version": "3.9.13"
  }
 },
 "nbformat": 4,
 "nbformat_minor": 5
}
