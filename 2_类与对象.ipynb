{
 "cells": [
  {
   "cell_type": "markdown",
   "id": "4cf870b0-105c-4afb-9761-597cc1d695cc",
   "metadata": {},
   "source": [
    "# 1. 类中 self 的含义\n",
    "关于类中的 self，很多教程都会一句话带过：self 是类的实例或对象本身，放在参数的第一个位置。\n",
    "\n",
    "通过代码直观展示一下 self 的含义："
   ]
  },
  {
   "cell_type": "code",
   "execution_count": 1,
   "id": "644f232e-3463-43bc-823b-43a4a9c0491c",
   "metadata": {},
   "outputs": [
    {
     "name": "stdout",
     "output_type": "stream",
     "text": [
      "self: <__main__.Student object at 0x000001E7657EB100>\n",
      "student: <__main__.Student object at 0x000001E7657EB100>\n"
     ]
    }
   ],
   "source": [
    "# 定义类\n",
    "class Student: \n",
    "    \n",
    "    # 定义初始化方法\n",
    "    def __init__(self, name, score): \n",
    "        self.name = name\n",
    "        self.score = score\n",
    "\n",
    "    # 定义打印 self 的实例方法\n",
    "    def get_self(self):\n",
    "        print(\"self:\", self)\n",
    "        \n",
    "    # 定义打印学生信息的方法\n",
    "    def show(self):\n",
    "        print(\"Name: {}. Score: {}\".format(self.name, self.score))\n",
    "\n",
    "# 实例化，创建对象\n",
    "student = Student(\"Vigour\", 100)\n",
    "student.get_self()\n",
    "print(\"student:\", student)"
   ]
  },
  {
   "cell_type": "markdown",
   "id": "5f3e94c9-2758-4718-9bcc-55ef0390beb7",
   "metadata": {},
   "source": [
    "通过上述代码，我们可以看出，self 和实例化创建的对象是完全相同的，都指向一个存储地址。\n",
    "\n",
    "在定义类的代码的内部，使用 self 表示实例化的对象，是一个内部中介。实际上，使用 self 只是一个惯例，也可以使用其他名字。"
   ]
  },
  {
   "cell_type": "markdown",
   "id": "f422a333-0ece-4c7c-b0b0-19d066ca87fb",
   "metadata": {},
   "source": [
    "# 2. 类的框架"
   ]
  },
  {
   "cell_type": "code",
   "execution_count": 2,
   "id": "93621698-a4b0-4dc8-a489-790529f6aba6",
   "metadata": {},
   "outputs": [
    {
     "name": "stdout",
     "output_type": "stream",
     "text": [
      "1\n",
      "Name: John. Score: 100\n",
      "Total: 1\n",
      "Name: John. Score: 100\n"
     ]
    }
   ],
   "source": [
    "class Student:  # 无继承时，()可有可无\n",
    "\n",
    "    number = 0  # number 属于类变量，定义在方法外，不属于某个具体的学生实例\n",
    "    \n",
    "    # 定义学生属性，初始化方法\n",
    "    def __init__(self, name, score):\n",
    "        self.name = name  # name 和 score 是属于每个学生对象实例的，属于实例变量，定义在方法里\n",
    "        self.__score = score  # score 是实例变量，也是私有属性/私有变量，所以使用 __score 定义；类的私有属性不能在类的外部被使用或直接访问，在类内部的函数中可以使用\n",
    "        Student.number = Student.number + 1  # 使用 类名.类变量名 调用类变量，或使用 self.__class__.类变量名 调用\n",
    "    \n",
    "    # 定义实例方法，打印学生信息\n",
    "    def show1(self):  # 实例方法使用 self\n",
    "        print(\"Name: {}. Score: {}\".format(self.name, self.__score))  # 实例变量使用 self.实例变量 调用\n",
    "\n",
    "    # 定义私有方法\n",
    "    def _show2(self):\n",
    "        print(\"Name: {}. Score: {}\".format(self.name, self.__score))\n",
    "        \n",
    "    # 定义类方法，打印学生的数量\n",
    "    @classmethod  # @classmethod 是类方法标记符\n",
    "    def total(cls):  # 类方法使用 cls\n",
    "        print(\"Total: {0}\".format(cls.number))  # 使用 cls.类变量名 调用类变量\n",
    "\n",
    "    # 使用 property 装饰器把函数伪装成属性\n",
    "    @property  # 标记符\n",
    "    def print_score(self):\n",
    "        print(\"Name: {}. Score: {}\".format(self.name, self.__score))\n",
    "\n",
    "\n",
    "# 实例化，创建对象\n",
    "student1 = Student(\"John\", 100)\n",
    "\n",
    "\n",
    "# 打印\n",
    "print(student1.__class__.number)  # 使用 实例名.__class__.类变量名 调用类变量；self.__class__ 和 实例名.__class__ 会返回实例对象对应的类名\n",
    "# print(student1.__score)  # 会报错，私有属性或方法不能在类的外部被使用或直接访问，在类内部的函数中可以使用\n",
    "student1.show1()  # 实例对象名.\n",
    "Student.total()  # 类名.\n",
    "student1.print_score  # 函数伪装成属性之后，调用函数时不用加括号"
   ]
  },
  {
   "cell_type": "markdown",
   "id": "3bfc5f44-4a01-45e8-a5d0-a4c641f7137f",
   "metadata": {},
   "source": [
    "注意：下划线都是双下划线"
   ]
  },
  {
   "cell_type": "markdown",
   "id": "1d9e7344-4e02-4ae3-bf6d-acfe88298ccc",
   "metadata": {},
   "source": [
    "# 3. 继承，静态变量和静态方法"
   ]
  },
  {
   "cell_type": "code",
   "execution_count": 3,
   "id": "e01acaa8-0e5e-40de-9722-547ae79e946f",
   "metadata": {},
   "outputs": [
    {
     "name": "stdout",
     "output_type": "stream",
     "text": [
      "Mary\n",
      "12\n",
      "99\n",
      "Name:\"Mary\" Age:\"12\" score: 99\n",
      "this is static function!\n"
     ]
    }
   ],
   "source": [
    "# 创建父类 SchoolMember\n",
    "class SchoolMember:\n",
    "\n",
    "    def __init__(self, name, age):\n",
    "        self.name = name\n",
    "        self.age = age\n",
    "    \n",
    "    def tell(self):\n",
    "        print('Name:\"{}\" Age:\"{}\"'.format(self.name, self.age), end=\" \")\n",
    "\n",
    "\n",
    "# 创建子类学生 Student\n",
    "class Student(SchoolMember):\n",
    "\n",
    "    def __init__(self, name, age, score):\n",
    "        super().__init__(name, age)  # 调用父类的构造函数 __init__ 来完成子类的构造，注意去掉了 self 参数\n",
    "        self.score = score  # 添加子类中新定义的 score 属性/实例变量\n",
    "    \n",
    "    def tell(self):\n",
    "        super().tell()  # 在子类中调用父类的方法，等同于 SchoolMember.tell(self)\n",
    "        print('score: {}'.format(self.score))  # 添加子类中新定义的方法\n",
    "\n",
    "    # 定义静态方法\n",
    "    @staticmethod  # 使用 @staticmethod 标记符把类中的方法声明为静态方法\n",
    "    def func1():  # 静态方法无法使用cls参数访问类的变量，以及无法使用self参数访问实例的变量\n",
    "        print(\"this is static function!\")\n",
    "\n",
    "\n",
    "# 实例化，创建对象\n",
    "student1 = Student(\"Mary\", 12, 99)\n",
    "\n",
    "\n",
    "# 打印\n",
    "print(student1.name)\n",
    "print(student1.age)\n",
    "print(student1.score)\n",
    "student1.tell()  # 打印父类的 2 项和子类的 1 项，共 3 项\n",
    "Student.func1()  # 类名."
   ]
  },
  {
   "cell_type": "markdown",
   "id": "5cbd64b8-60ba-4aeb-a0c0-18369921a140",
   "metadata": {},
   "source": [
    "**注意：**\n",
    "\n",
    "- 如果子类调用了某个方法(如tell())或属性，Python会先在子类中找，如果找到了会直接调用。如果找不到才会去父类找。\n",
    "\n",
    "- 从父类继承的属性和方法，在子类中可以直接使用（name、age 属性和 tell() 方法）。\n",
    "\n",
    "- 注意：Python 3 的 super() 不需要参数，`super().__init__()`\n",
    "\n",
    "- 我的理解：继承时，父类形参数量应是子类形参数量的子集，给子类形参指定的值通过相同的形参名字传递给父类形参，然后子类从父类那里继承，完成子类的构造。\n",
    "\n",
    "- Python 属于动态语言，不存在绝对的静态变量，类变量(比如 number)一般就是静态变量，无需显式地声明。"
   ]
  }
 ],
 "metadata": {
  "kernelspec": {
   "display_name": "Python 3 (ipykernel)",
   "language": "python",
   "name": "python3"
  },
  "language_info": {
   "codemirror_mode": {
    "name": "ipython",
    "version": 3
   },
   "file_extension": ".py",
   "mimetype": "text/x-python",
   "name": "python",
   "nbconvert_exporter": "python",
   "pygments_lexer": "ipython3",
   "version": "3.9.13"
  }
 },
 "nbformat": 4,
 "nbformat_minor": 5
}
